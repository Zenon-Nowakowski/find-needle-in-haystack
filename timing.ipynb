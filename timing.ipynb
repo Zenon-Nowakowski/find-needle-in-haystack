{
 "cells": [
  {
   "cell_type": "code",
   "execution_count": 2,
   "metadata": {},
   "outputs": [
    {
     "name": "stdout",
     "output_type": "stream",
     "text": [
      "returned value:-1\n",
      "returned value:2\n",
      "returned value:1\n",
      "returned value:4\n",
      "CPU times: total: 0 ns\n",
      "Wall time: 1e+03 µs\n"
     ]
    }
   ],
   "source": [
    "%%time\n",
    "#The class which finds the needle\n",
    "def find_needle_in_haystack(haystack, needle):   \n",
    "    #var declarations to make the function work\n",
    "    needle_index = 0 \n",
    "    solution = \"\"\n",
    "    index = 0\n",
    "    needle_max = len(needle)\n",
    "    loopsize = len(haystack)\n",
    "    #this is functioning almost identically the same as a for loop with the acception that we can manipulate index at any point of the execution \n",
    "    while(index < loopsize): \n",
    "        #print('letter value: {}, needle value: {}, at needle_index: {}'.format(haystack[index], needle[needle_index % len(needle)], needle_index))\n",
    "        #if a char belonging to the needle is found, then add it to the solution string and increment the index of needle, modulus is used to prevent overflow\n",
    "        if needle[needle_index % needle_max] == haystack[index]:\n",
    "            solution += haystack[index]\n",
    "            needle_index+=1\n",
    "            #print('solution: {} needle_index of heystack: {} needle_index of needle: {}'.format(solution, index, needle_index))\n",
    "        #reset the index if needle index and solution vars if solution is not found\n",
    "        else:\n",
    "            index -= needle_index\n",
    "            needle_index = 0\n",
    "            solution = \"\"\n",
    "            #print('correct char not found, solution: {} needle_index of heystack: {} needle_index of needle: {}'.format(solution, index, needle_index))\n",
    "        if(needle == solution):\n",
    "            #print(solution)\n",
    "            return index-len(needle)+1\n",
    "        index+=1\n",
    "    return -1\n",
    "# test cases commonly failed: \n",
    "value = find_needle_in_haystack(\"leetcode\", \"leeto\")\n",
    "print('returned value:{}'.format(value))\n",
    "value = find_needle_in_haystack(\"hello\", \"ll\")\n",
    "print('returned value:{}'.format(value))\n",
    "value = find_needle_in_haystack(\"mississipi\", \"issi\")\n",
    "print('returned value:{}'.format(value))\n",
    "#error with this test is that it compares to p, does not find it and resets however the way the logic currently works it compares to the 'ipi' as it has already looped through the solution \n",
    "value = find_needle_in_haystack(\"mississipi\", \"issip\")\n",
    "print('returned value:{}'.format(value))\n",
    "#times before optimization: \n",
    "#0.998 ms\n",
    "#1 ms\n",
    "#0.993 ms\n",
    "#1 ms\n",
    "#post optimization: \n",
    "#0.995 ms  \n",
    "#0.999 ms\n",
    "#0.981 ms\n",
    "# 1 ms"
   ]
  }
 ],
 "metadata": {
  "kernelspec": {
   "display_name": "base",
   "language": "python",
   "name": "python3"
  },
  "language_info": {
   "codemirror_mode": {
    "name": "ipython",
    "version": 3
   },
   "file_extension": ".py",
   "mimetype": "text/x-python",
   "name": "python",
   "nbconvert_exporter": "python",
   "pygments_lexer": "ipython3",
   "version": "3.11.4"
  }
 },
 "nbformat": 4,
 "nbformat_minor": 2
}
